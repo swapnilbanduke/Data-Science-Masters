{
 "cells": [
  {
   "cell_type": "markdown",
   "id": "1a94288b",
   "metadata": {},
   "source": [
    "Que 1: Name any five plots that we can plot using the Seaborn library. Also, state the uses of each plot.\n",
    "\n",
    "Answer:\n",
    "\n",
    "Scatter plot: A scatter plot is used to display the relationship between two continuous variables. It can help identify any patterns or trends in the data and also help identify outliers. For example, we can use a scatter plot to analyze the relationship between the price and mileage of a car.\n",
    "\n",
    "Line plot: A line plot is used to display the trend of a continuous variable over time. It can help identify any patterns or trends in the data and also help identify outliers. For example, we can use a line plot to analyze the trend of the stock market over time.\n",
    "\n",
    "Bar plot: A bar plot is used to display the frequency or distribution of a categorical variable. It can help identify any trends in the data and also help identify any outliers. For example, we can use a bar plot to analyze the frequency of different types of fruits sold in a grocery store.\n",
    "\n",
    "Histogram: A histogram is used to display the distribution of a continuous variable. It can help identify any patterns or trends in the data and also help identify outliers. For example, we can use a histogram to analyze the distribution of the height of students in a classroom.\n",
    "\n",
    "Heatmap: A heatmap is used to display the correlation between different variables in a dataset. It can help identify any patterns or trends in the data and also help identify any outliers. For example, we can use a heatmap to analyze the correlation between the price, mileage, and age of cars in a dataset.\n",
    "\n",
    "Que 2: Load the \"fmri\" dataset using the load_dataset function of seaborn. Plot a line plot using x =\n",
    "\"timepoint\" and y = \"signal\" for different events and regions.\n",
    "\n",
    "Answer:\n",
    "\n",
    "sns.lineplot(x=data.timepoint,y=data.signal)\n",
    "\n",
    "Que 3: Load the \"titanic\" dataset using the load_dataset function of seaborn. Plot two box plots using x =\n",
    "'pclass', y = 'age' and y = 'fare'.\n",
    "\n",
    "Ans:\n",
    "\n",
    "import seaborn as sns\n",
    "import pandas as pd\n",
    "data=pd.read_csv(\"C:\\\\Users\\\\swapn\\\\Downloads\\\\train.csv\")\n",
    "sns.boxplot(x=data.Pclass,y=data.Age)\n",
    "\n",
    "Que 4: Use the \"diamonds\" dataset from seaborn to plot a histogram for the 'price' column. Use the hue parameter for the 'cut' column of the diamonds dataset.\n",
    "\n",
    "Answer:\n",
    "\n",
    "sns.histplot(data=data, x='price', hue='cut',multiple='stack')\n",
    "\n",
    "Que 5: Use the \"iris\" dataset from seaborn to plot a pair plot. Use the hue parameter for the \"species\" column\n",
    "of the iris dataset.\n",
    "\n",
    "Answer:\n",
    "\n",
    "(sns.pairplot(data=data,hue='species')\n",
    "\n",
    "Que 6: Use the \"flights\" dataset from seaborn to plot a heatmap.\n",
    "\n",
    "answer:\n",
    "\n",
    "import seaborn as sns\n",
    "data=sns.load_dataset('flights')\n",
    "flights_pivot = data.pivot(\"month\", \"year\", \"passengers\")\n",
    "sns.heatmap(flights_pivot, cmap=\"BuGn\")\n"
   ]
  }
 ],
 "metadata": {
  "kernelspec": {
   "display_name": "Python 3 (ipykernel)",
   "language": "python",
   "name": "python3"
  },
  "language_info": {
   "codemirror_mode": {
    "name": "ipython",
    "version": 3
   },
   "file_extension": ".py",
   "mimetype": "text/x-python",
   "name": "python",
   "nbconvert_exporter": "python",
   "pygments_lexer": "ipython3",
   "version": "3.9.13"
  }
 },
 "nbformat": 4,
 "nbformat_minor": 5
}
