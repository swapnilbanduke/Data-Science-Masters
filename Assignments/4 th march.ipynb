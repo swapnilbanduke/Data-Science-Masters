{
 "cells": [
  {
   "cell_type": "markdown",
   "id": "d287e6a5",
   "metadata": {},
   "source": [
    "Q1. Load the \"titanic\" dataset using the load_dataset function of seaborn. Use Plotly express to plot a\n",
    "scatter plot for age and fare columns in the titanic dataset.\n",
    "\n",
    "Answer:\n",
    "import seaborn as sns\n",
    "import plotly.graph_objects as go\n",
    "fig=go.Figure()\n",
    "fig.add_trace(go.Scatter(x=titanic.age,y=titanic.fare,mode='markers'))\n",
    "fig.show()\n",
    "\n",
    "Q2. Using the tips dataset in the Plotly library, plot a box plot using Plotly express.\n",
    "\n",
    "Answer:\n",
    "\n",
    "import plotly.express as px\n",
    "tips=px.data.tips()\n",
    "fig=px.box(tips, x='day',y='tip')\n",
    "fig.show()\n",
    "\n",
    "Q3. Using the tips dataset in the Plotly library, Plot a histogram for x= \"sex\" and y=\"total_bill\" column in\n",
    "the tips dataset. Also, use the \"smoker\" column with the pattern_shape parameter and the \"day\"\n",
    "column with the color parameter.\n",
    "\n",
    "Answer:\n",
    "\n",
    "import plotly.express as px\n",
    "import seaborn as sns\n",
    "tips=sns.load_dataset('tips')\n",
    "fig=px.histogram (tips, x='sex', y='total_bill',color='day',pattern_shape='smoker')\n",
    "fig.update_layout(title='Histogram Example', xaxis_title='sex', yaxis_title='Total Bill')\n",
    "fig.show()\n",
    "\n",
    "Q4. Using the iris dataset in the Plotly library, Plot a scatter matrix plot, using the \"species\" column for\n",
    "the color parameter.\n",
    "Note: Use \"sepal_length\", \"sepal_width\", \"petal_length\", \"petal_width\" columns only with the\n",
    "dimensions parameter.\n",
    "\n",
    "Answer:\n",
    "\n",
    "import plotly.express as px\n",
    "data= px.data.iris()\n",
    "fig=px.scatter_matrix(data, dimensions=['sepal_length',\t'sepal_width',\t'petal_length',\t'petal_width'], color='species')\n",
    "fig.show()\n",
    "\n",
    "\n",
    "Q5. What is Distplot? Using Plotly express, plot a distplot.\n",
    "\n",
    "Answer:\n",
    "\n",
    "Distplot is a function used for visualizing the distribution of a univariate set of observations. It is used to plot a histogram and an estimation of the probability density function. The distplot function combines the functionality of a histogram and a kernel density plot in a single visualization.\n",
    "\n",
    "import plotly.express as px\n",
    "import pandas as pd\n",
    "data = pd.DataFrame({'value': [1, 2,2, 3, 3, 4, 4, 4, 5, 5, 5, 5,6,6,6,7,7,7,7,7,7,7,7,9,9,9,9,10,11,12,12,12,12,12]})\n",
    "fig = px.histogram(data, x='value', nbins=12, marginal='box')\n",
    "fig.show()\n"
   ]
  },
  {
   "cell_type": "code",
   "execution_count": null,
   "id": "ac2bfc3b",
   "metadata": {},
   "outputs": [],
   "source": []
  }
 ],
 "metadata": {
  "kernelspec": {
   "display_name": "Python 3 (ipykernel)",
   "language": "python",
   "name": "python3"
  },
  "language_info": {
   "codemirror_mode": {
    "name": "ipython",
    "version": 3
   },
   "file_extension": ".py",
   "mimetype": "text/x-python",
   "name": "python",
   "nbconvert_exporter": "python",
   "pygments_lexer": "ipython3",
   "version": "3.9.13"
  }
 },
 "nbformat": 4,
 "nbformat_minor": 5
}
