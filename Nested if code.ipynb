{
 "cells": [
  {
   "cell_type": "code",
   "execution_count": null,
   "id": "37a751d7",
   "metadata": {},
   "outputs": [],
   "source": [
    "money=int(input('Enter the amount you have'))\n",
    "if money>1000 and money<5000: \n",
    "    if money==2999:\n",
    "        print('Congratulation you are lucky customer')\n",
    "    print('You have money greater than 1000 and less than 5000')\n",
    "elif money>5000 and money<50000:\n",
    "    print('You have money greater than 5000 and less than 50000')\n",
    "elif money >50000:\n",
    "    print('you have money greater than 50,000')\n",
    "else:\n",
    "    print('you are begger')\n",
    "    "
   ]
  },
  {
   "cell_type": "code",
   "execution_count": null,
   "id": "2429d974",
   "metadata": {},
   "outputs": [],
   "source": []
  }
 ],
 "metadata": {
  "kernelspec": {
   "display_name": "Python 3 (ipykernel)",
   "language": "python",
   "name": "python3"
  },
  "language_info": {
   "codemirror_mode": {
    "name": "ipython",
    "version": 3
   },
   "file_extension": ".py",
   "mimetype": "text/x-python",
   "name": "python",
   "nbconvert_exporter": "python",
   "pygments_lexer": "ipython3",
   "version": "3.9.13"
  }
 },
 "nbformat": 4,
 "nbformat_minor": 5
}
